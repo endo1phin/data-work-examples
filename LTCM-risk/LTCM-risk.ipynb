{
 "cells": [
  {
   "cell_type": "markdown",
   "metadata": {},
   "source": [
    "# LTCM Risk"
   ]
  },
  {
   "cell_type": "code",
   "execution_count": 1,
   "metadata": {},
   "outputs": [],
   "source": [
    "import pandas as pd\n",
    "import math"
   ]
  },
  {
   "cell_type": "code",
   "execution_count": 2,
   "metadata": {},
   "outputs": [
    {
     "data": {
      "text/html": [
       "<div>\n",
       "<style scoped>\n",
       "    .dataframe tbody tr th:only-of-type {\n",
       "        vertical-align: middle;\n",
       "    }\n",
       "\n",
       "    .dataframe tbody tr th {\n",
       "        vertical-align: top;\n",
       "    }\n",
       "\n",
       "    .dataframe thead th {\n",
       "        text-align: right;\n",
       "    }\n",
       "</style>\n",
       "<table border=\"1\" class=\"dataframe\">\n",
       "  <thead>\n",
       "    <tr style=\"text-align: right;\">\n",
       "      <th></th>\n",
       "      <th>date</th>\n",
       "      <th>gross</th>\n",
       "      <th>net</th>\n",
       "    </tr>\n",
       "  </thead>\n",
       "  <tbody>\n",
       "    <tr>\n",
       "      <th>0</th>\n",
       "      <td>1994-04-30</td>\n",
       "      <td>0.0658</td>\n",
       "      <td>0.0508</td>\n",
       "    </tr>\n",
       "    <tr>\n",
       "      <th>1</th>\n",
       "      <td>1994-05-31</td>\n",
       "      <td>-0.0415</td>\n",
       "      <td>-0.0315</td>\n",
       "    </tr>\n",
       "    <tr>\n",
       "      <th>2</th>\n",
       "      <td>1994-06-30</td>\n",
       "      <td>0.1137</td>\n",
       "      <td>0.0817</td>\n",
       "    </tr>\n",
       "    <tr>\n",
       "      <th>3</th>\n",
       "      <td>1994-07-31</td>\n",
       "      <td>0.0355</td>\n",
       "      <td>0.0275</td>\n",
       "    </tr>\n",
       "    <tr>\n",
       "      <th>4</th>\n",
       "      <td>1994-08-31</td>\n",
       "      <td>-0.0061</td>\n",
       "      <td>-0.0051</td>\n",
       "    </tr>\n",
       "  </tbody>\n",
       "</table>\n",
       "</div>"
      ],
      "text/plain": [
       "        date   gross     net\n",
       "0 1994-04-30  0.0658  0.0508\n",
       "1 1994-05-31 -0.0415 -0.0315\n",
       "2 1994-06-30  0.1137  0.0817\n",
       "3 1994-07-31  0.0355  0.0275\n",
       "4 1994-08-31 -0.0061 -0.0051"
      ]
     },
     "execution_count": 2,
     "metadata": {},
     "output_type": "execute_result"
    }
   ],
   "source": [
    "excess_return = pd.read_excel(\"hedge_data.xls\", sheet_name=0)\n",
    "equity_index = pd.read_excel(\"hedge_data.xls\", sheet_name=2)\n",
    "excess_return.head()"
   ]
  },
  {
   "cell_type": "markdown",
   "metadata": {},
   "source": [
    "### 1. Summary stats\n",
    "#### a. Mean and volatility of excessive return"
   ]
  },
  {
   "cell_type": "code",
   "execution_count": 3,
   "metadata": {},
   "outputs": [
    {
     "data": {
      "text/html": [
       "<div>\n",
       "<style scoped>\n",
       "    .dataframe tbody tr th:only-of-type {\n",
       "        vertical-align: middle;\n",
       "    }\n",
       "\n",
       "    .dataframe tbody tr th {\n",
       "        vertical-align: top;\n",
       "    }\n",
       "\n",
       "    .dataframe thead th {\n",
       "        text-align: right;\n",
       "    }\n",
       "</style>\n",
       "<table border=\"1\" class=\"dataframe\">\n",
       "  <thead>\n",
       "    <tr style=\"text-align: right;\">\n",
       "      <th></th>\n",
       "      <th>mean</th>\n",
       "      <th>volatility</th>\n",
       "    </tr>\n",
       "  </thead>\n",
       "  <tbody>\n",
       "    <tr>\n",
       "      <th>net</th>\n",
       "      <td>0.168918</td>\n",
       "      <td>0.113187</td>\n",
       "    </tr>\n",
       "    <tr>\n",
       "      <th>gross</th>\n",
       "      <td>0.257153</td>\n",
       "      <td>0.137987</td>\n",
       "    </tr>\n",
       "  </tbody>\n",
       "</table>\n",
       "</div>"
      ],
      "text/plain": [
       "           mean  volatility\n",
       "net    0.168918    0.113187\n",
       "gross  0.257153    0.137987"
      ]
     },
     "execution_count": 3,
     "metadata": {},
     "output_type": "execute_result"
    }
   ],
   "source": [
    "net_mean = excess_return['net'].mean()*12\n",
    "net_vol = excess_return['net'].std()*math.sqrt(12)\n",
    "gross_mean = excess_return['gross'].mean()*12\n",
    "gross_vol = excess_return['gross'].std()*math.sqrt(12)\n",
    "\n",
    "exret_mean_vol = pd.DataFrame({\n",
    "    \"mean\": [net_mean, gross_mean],\n",
    "    \"volatility\": [net_vol, gross_vol]\n",
    "}, index=[\"net\", \"gross\"])\n",
    "exret_mean_vol"
   ]
  },
  {
   "cell_type": "markdown",
   "metadata": {},
   "source": [
    "#### b. Annualized Sharpe ratio"
   ]
  },
  {
   "cell_type": "code",
   "execution_count": 4,
   "metadata": {},
   "outputs": [
    {
     "data": {
      "text/plain": [
       "net      1.492373\n",
       "gross    1.863603\n",
       "dtype: float64"
      ]
     },
     "execution_count": 4,
     "metadata": {},
     "output_type": "execute_result"
    }
   ],
   "source": [
    "exret_mean_vol['mean']/exret_mean_vol['volatility']"
   ]
  },
  {
   "cell_type": "markdown",
   "metadata": {},
   "source": [
    "The Sharpe ratio for the asset seems unexpectedly high. The net SR is about 300% higher than the average stock market SR $(0.39)$ and SRs of assets we saw in HW1 $(\\leq0.34)$."
   ]
  },
  {
   "cell_type": "markdown",
   "metadata": {},
   "source": [
    "### 2. Estimate with LTCM regression model:\n",
    "$$\\tilde{r}^{LTCM}_t = \\alpha + \\beta^m \\tilde{r}^{m}_t + \\epsilon_t$$"
   ]
  },
  {
   "cell_type": "code",
   "execution_count": 5,
   "metadata": {},
   "outputs": [],
   "source": [
    "import statsmodels.formula.api as smf"
   ]
  },
  {
   "cell_type": "code",
   "execution_count": 6,
   "metadata": {},
   "outputs": [
    {
     "name": "stdout",
     "output_type": "stream",
     "text": [
      "Unadjusted R-square: 0.0016513307508558839\n",
      "Alpha: 0.013430806247735792\n",
      "Beta: 0.04202792771598583\n"
     ]
    }
   ],
   "source": [
    "temp = pd.DataFrame({\n",
    "    \"net\": excess_return['net'], \n",
    "    \"market\": equity_index[equity_index['date']<=\"1998-06-30\"]['Market Equity Index']\n",
    "})\n",
    "\n",
    "results = smf.ols('net ~ market', data=temp).fit()\n",
    "alpha = results.params[0]\n",
    "beta_m = results.params[1]\n",
    "\n",
    "print(\"Unadjusted R-square: {}\\nAlpha: {}\\nBeta: {}\".format(results.rsquared, alpha, beta_m))"
   ]
  },
  {
   "cell_type": "markdown",
   "metadata": {},
   "source": [
    "The low R-square shows that the not much variation in LTCM can be explained by the market index. Even if the regression holds, the beta indicate that, within the data's time range, movement of market equity index only correspond to 1.3% of movement in the return. Therefore, LTCM does not appear to have much correlation with the index factor."
   ]
  },
  {
   "cell_type": "markdown",
   "metadata": {},
   "source": [
    "### 3. Regression-based metrics\n",
    "\n",
    "#### a. Treynor ratio"
   ]
  },
  {
   "cell_type": "code",
   "execution_count": 7,
   "metadata": {},
   "outputs": [
    {
     "data": {
      "text/plain": [
       "4.019176205886869"
      ]
     },
     "execution_count": 7,
     "metadata": {},
     "output_type": "execute_result"
    }
   ],
   "source": [
    "treynor = net_mean/beta_m\n",
    "treynor"
   ]
  },
  {
   "cell_type": "markdown",
   "metadata": {},
   "source": [
    "#### b. Information ratio"
   ]
  },
  {
   "cell_type": "code",
   "execution_count": 8,
   "metadata": {},
   "outputs": [
    {
     "data": {
      "text/plain": [
       "0.41139012789149837"
      ]
     },
     "execution_count": 8,
     "metadata": {},
     "output_type": "execute_result"
    }
   ],
   "source": [
    "IR = alpha/results.resid.std()\n",
    "IR"
   ]
  },
  {
   "cell_type": "markdown",
   "metadata": {},
   "source": [
    "### 4. Tail risk\n",
    "#### a. 5th worst return of the sample."
   ]
  },
  {
   "cell_type": "code",
   "execution_count": 9,
   "metadata": {},
   "outputs": [
    {
     "data": {
      "text/plain": [
       "-0.018099999999999998"
      ]
     },
     "execution_count": 9,
     "metadata": {},
     "output_type": "execute_result"
    }
   ],
   "source": [
    "sorted(excess_return['net'])[4]"
   ]
  },
  {
   "cell_type": "markdown",
   "metadata": {},
   "source": [
    "#### b. Mean of the worst 4 returns from the sample."
   ]
  },
  {
   "cell_type": "code",
   "execution_count": 10,
   "metadata": {},
   "outputs": [
    {
     "data": {
      "text/plain": [
       "-0.056575"
      ]
     },
     "execution_count": 10,
     "metadata": {},
     "output_type": "execute_result"
    }
   ],
   "source": [
    "sum(sorted(excess_return['net'])[:4])/4"
   ]
  },
  {
   "cell_type": "markdown",
   "metadata": {},
   "source": [
    "#### c. Skewness of the return distribution"
   ]
  },
  {
   "cell_type": "code",
   "execution_count": 11,
   "metadata": {},
   "outputs": [
    {
     "data": {
      "text/plain": [
       "-0.8573139307755562"
      ]
     },
     "execution_count": 11,
     "metadata": {},
     "output_type": "execute_result"
    }
   ],
   "source": [
    "excess_return['net'].skew()"
   ]
  },
  {
   "cell_type": "markdown",
   "metadata": {},
   "source": [
    "The skewness is smaller than 0, which means it is negatively skewed to the left.\n",
    "#### d. Kurtosis of the return distribution"
   ]
  },
  {
   "cell_type": "code",
   "execution_count": 12,
   "metadata": {},
   "outputs": [
    {
     "data": {
      "text/plain": [
       "5.987867188139747"
      ]
     },
     "execution_count": 12,
     "metadata": {},
     "output_type": "execute_result"
    }
   ],
   "source": [
    "excess_return['net'].kurtosis()+3"
   ]
  },
  {
   "cell_type": "markdown",
   "metadata": {},
   "source": [
    "The kurtosis is almost as twice higher as 3, meaning it has a significant amount of outliers/tail data comparing to a normal distribution."
   ]
  },
  {
   "cell_type": "markdown",
   "metadata": {},
   "source": [
    "## 3. Other Hedge Fund Indexes\n",
    "\n",
    "\n",
    "### 1. Summary statistics"
   ]
  },
  {
   "cell_type": "code",
   "execution_count": 13,
   "metadata": {},
   "outputs": [],
   "source": [
    "def report_stats(data):\n",
    "    mean = data.mean()*12\n",
    "    vol = data.std()*math.sqrt(12)\n",
    "    skew = data.skew()\n",
    "    kurt = data.kurtosis()+3\n",
    "    fifth = sorted(data)[4]\n",
    "    return [mean, vol, skew, kurt, fifth]\n",
    "\n",
    "hedge_index = pd.read_excel(\"hedge_data.xls\", sheet_name=1)"
   ]
  },
  {
   "cell_type": "code",
   "execution_count": 14,
   "metadata": {},
   "outputs": [
    {
     "data": {
      "text/plain": [
       "Mean                0.131929\n",
       "Volatile            0.084846\n",
       "Skew                0.174095\n",
       "Kurtosis            3.168940\n",
       "Fifth Percentile   -0.019600\n",
       "Name: Total Index, dtype: float64"
      ]
     },
     "execution_count": 14,
     "metadata": {},
     "output_type": "execute_result"
    }
   ],
   "source": [
    "hedge = hedge_index[hedge_index['date']<=\"1998-06-30\"]\n",
    "hedge = hedge.drop('date', axis=1)\n",
    "\n",
    "hedge_stats = pd.DataFrame(dict(hedge.apply(report_stats)), \n",
    "                           index=['Mean', \"Volatile\", \"Skew\", \"Kurtosis\", \"Fifth Percentile\"])\n",
    "hedge_stats[\"Total Index\"]"
   ]
  },
  {
   "cell_type": "markdown",
   "metadata": {},
   "source": [
    "### 2. Regression of each series on the market-equity factor\n"
   ]
  },
  {
   "cell_type": "code",
   "execution_count": 15,
   "metadata": {},
   "outputs": [
    {
     "data": {
      "text/html": [
       "<div>\n",
       "<style scoped>\n",
       "    .dataframe tbody tr th:only-of-type {\n",
       "        vertical-align: middle;\n",
       "    }\n",
       "\n",
       "    .dataframe tbody tr th {\n",
       "        vertical-align: top;\n",
       "    }\n",
       "\n",
       "    .dataframe thead th {\n",
       "        text-align: right;\n",
       "    }\n",
       "</style>\n",
       "<table border=\"1\" class=\"dataframe\">\n",
       "  <thead>\n",
       "    <tr style=\"text-align: right;\">\n",
       "      <th></th>\n",
       "      <th>Total Index</th>\n",
       "      <th>Convertible Arbitrage</th>\n",
       "      <th>Dedicated Short Bias</th>\n",
       "      <th>Emerging Markets</th>\n",
       "      <th>Equity Market Neutral</th>\n",
       "      <th>Event Driven</th>\n",
       "      <th>Event Driven Distressed</th>\n",
       "      <th>Event Driven Multi-Strategy</th>\n",
       "      <th>Event Driven Risk Arbitrage</th>\n",
       "      <th>Fixed Income Arbitrage</th>\n",
       "      <th>Global Macro</th>\n",
       "      <th>Long/Short Equity</th>\n",
       "      <th>Managed Futures</th>\n",
       "      <th>Multi-Strategy</th>\n",
       "    </tr>\n",
       "  </thead>\n",
       "  <tbody>\n",
       "    <tr>\n",
       "      <th>Alpha</th>\n",
       "      <td>0.003888</td>\n",
       "      <td>0.003345</td>\n",
       "      <td>0.012182</td>\n",
       "      <td>-0.006820</td>\n",
       "      <td>0.002393</td>\n",
       "      <td>0.004265</td>\n",
       "      <td>0.005376</td>\n",
       "      <td>0.003857</td>\n",
       "      <td>0.002632</td>\n",
       "      <td>0.002770</td>\n",
       "      <td>0.008051</td>\n",
       "      <td>-0.000391</td>\n",
       "      <td>-0.002138</td>\n",
       "      <td>0.005408</td>\n",
       "    </tr>\n",
       "    <tr>\n",
       "      <th>Beta</th>\n",
       "      <td>0.462541</td>\n",
       "      <td>0.075847</td>\n",
       "      <td>-1.094786</td>\n",
       "      <td>0.615501</td>\n",
       "      <td>0.165458</td>\n",
       "      <td>0.236607</td>\n",
       "      <td>0.311428</td>\n",
       "      <td>0.171142</td>\n",
       "      <td>0.132719</td>\n",
       "      <td>0.056809</td>\n",
       "      <td>0.569501</td>\n",
       "      <td>0.621620</td>\n",
       "      <td>0.120503</td>\n",
       "      <td>-0.027706</td>\n",
       "    </tr>\n",
       "    <tr>\n",
       "      <th>R-square</th>\n",
       "      <td>0.355953</td>\n",
       "      <td>0.054253</td>\n",
       "      <td>0.636514</td>\n",
       "      <td>0.132392</td>\n",
       "      <td>0.237605</td>\n",
       "      <td>0.410441</td>\n",
       "      <td>0.391489</td>\n",
       "      <td>0.160367</td>\n",
       "      <td>0.187130</td>\n",
       "      <td>0.059413</td>\n",
       "      <td>0.207588</td>\n",
       "      <td>0.668906</td>\n",
       "      <td>0.013083</td>\n",
       "      <td>0.003414</td>\n",
       "    </tr>\n",
       "  </tbody>\n",
       "</table>\n",
       "</div>"
      ],
      "text/plain": [
       "          Total Index  Convertible Arbitrage  Dedicated Short Bias  \\\n",
       "Alpha        0.003888               0.003345              0.012182   \n",
       "Beta         0.462541               0.075847             -1.094786   \n",
       "R-square     0.355953               0.054253              0.636514   \n",
       "\n",
       "          Emerging Markets  Equity Market Neutral  Event Driven  \\\n",
       "Alpha            -0.006820               0.002393      0.004265   \n",
       "Beta              0.615501               0.165458      0.236607   \n",
       "R-square          0.132392               0.237605      0.410441   \n",
       "\n",
       "          Event Driven Distressed  Event Driven Multi-Strategy  \\\n",
       "Alpha                    0.005376                     0.003857   \n",
       "Beta                     0.311428                     0.171142   \n",
       "R-square                 0.391489                     0.160367   \n",
       "\n",
       "          Event Driven Risk Arbitrage  Fixed Income Arbitrage  Global Macro  \\\n",
       "Alpha                        0.002632                0.002770      0.008051   \n",
       "Beta                         0.132719                0.056809      0.569501   \n",
       "R-square                     0.187130                0.059413      0.207588   \n",
       "\n",
       "          Long/Short Equity  Managed Futures  Multi-Strategy  \n",
       "Alpha             -0.000391        -0.002138        0.005408  \n",
       "Beta               0.621620         0.120503       -0.027706  \n",
       "R-square           0.668906         0.013083        0.003414  "
      ]
     },
     "execution_count": 15,
     "metadata": {},
     "output_type": "execute_result"
    }
   ],
   "source": [
    "MARKET = equity_index[equity_index['date']<=\"1998-06-30\"]['Market Equity Index']\n",
    "\n",
    "def run_regression(data):\n",
    "    temp = pd.DataFrame({\n",
    "        \"net\": data, \n",
    "        \"market\": MARKET\n",
    "    })\n",
    "    results = smf.ols('net ~ market', data=temp).fit()\n",
    "    alpha = results.params[0]\n",
    "    beta_m = results.params[1]\n",
    "    r_square = results.rsquared\n",
    "    return [alpha, beta_m, r_square]\n",
    "\n",
    "\n",
    "hedge_regression = pd.DataFrame(dict(hedge.apply(run_regression)), \n",
    "                               index=['Alpha', \"Beta\", \"R-square\"])\n",
    "hedge_regression"
   ]
  }
 ],
 "metadata": {
  "kernelspec": {
   "display_name": "Python 3",
   "language": "python",
   "name": "python3"
  },
  "language_info": {
   "codemirror_mode": {
    "name": "ipython",
    "version": 3
   },
   "file_extension": ".py",
   "mimetype": "text/x-python",
   "name": "python",
   "nbconvert_exporter": "python",
   "pygments_lexer": "ipython3",
   "version": "3.7.7"
  }
 },
 "nbformat": 4,
 "nbformat_minor": 2
}
