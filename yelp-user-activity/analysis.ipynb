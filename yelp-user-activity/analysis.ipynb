{
 "cells": [
  {
   "cell_type": "markdown",
   "metadata": {},
   "source": [
    "# Yelp User Activity\n",
    "\n",
    "[Yelp data](https://www.yelp.com/dataset/download).\n",
    "\n",
    "\n",
    "Yelp rolled out a new interface for a randomly selected group of users. These users were randomly selected among those that posted a review in the month of January 2010. The `id` of these users are listed in the `yelp_academic_dataset_review_treatment.json` file present in the archive.\n",
    "\n",
    "For this group of users, a new website interface was put in place on February 1st 2010. The goal is to analyze the impact of the new app interface. The company is interested in estimating its effect on user engagement, measured by rating activities. We will focus mainly on the number of ratings for each user. "
   ]
  },
  {
   "cell_type": "code",
   "execution_count": 1,
   "metadata": {
    "ExecuteTime": {
     "end_time": "2020-05-20T01:48:33.933316Z",
     "start_time": "2020-05-20T01:48:33.861632Z"
    }
   },
   "outputs": [],
   "source": [
    "import os\n",
    "import pandas as pd\n",
    "import tqdm\n",
    "import seaborn as sns\n",
    "import matplotlib.pyplot as plt\n",
    "import numpy as np\n",
    "\n",
    "file_review = os.path.expanduser(\"yelp/yelp_academic_dataset_review_experiment.json\")\n",
    "file_treatment = os.path.expanduser(\"yelp/yelp_academic_dataset_review_treatment.json\")\n",
    "\n",
    "def file_len(fname):\n",
    "    \"\"\" Function which efficiently computes the number of lines in file\"\"\"\n",
    "    with open(fname) as f:\n",
    "        for i, l in enumerate(f):\n",
    "            pass\n",
    "    return i + 1\n"
   ]
  },
  {
   "cell_type": "markdown",
   "metadata": {},
   "source": [
    "\n",
    "# Loading the yelp review data\n"
   ]
  },
  {
   "cell_type": "code",
   "execution_count": 2,
   "metadata": {},
   "outputs": [],
   "source": [
    "def load_data(filepath):\n",
    "    size = 100000\n",
    "    review = pd.read_json(filepath, lines=True,\n",
    "                          dtype={'review_id':str,\n",
    "                                 'user_id':float,\n",
    "                                 'business_id':str,\n",
    "                                 'stars':int,\n",
    "                                 'date':str,\n",
    "                                 'text':float,\n",
    "                                 'useful':int,\n",
    "                                 'funny':str,\n",
    "                                 'cool':int},\n",
    "                          chunksize=size)\n",
    "    \n",
    "    chunk_list = []\n",
    "    for chunk_review in tqdm.tqdm(review, total = np.ceil(file_len(filepath)/size)):\n",
    "        # Drop columns that aren't needed\n",
    "        \n",
    "        chunk_review = chunk_review.drop([\"text\", \"stars\", \"useful\", \"funny\", \"cool\"], axis=1)\n",
    "        chunk_list.append(chunk_review)\n",
    "\n",
    "    df = pd.concat(chunk_list, ignore_index=True, join='outer', axis=0)\n",
    "    return df\n"
   ]
  },
  {
   "cell_type": "code",
   "execution_count": 3,
   "metadata": {
    "ExecuteTime": {
     "end_time": "2020-05-20T01:51:00.630840Z",
     "start_time": "2020-05-20T01:48:43.485017Z"
    }
   },
   "outputs": [
    {
     "name": "stderr",
     "output_type": "stream",
     "text": [
      "100%|██████████| 80/80.0 [01:53<00:00,  1.41s/it]\n"
     ]
    },
    {
     "data": {
      "text/html": [
       "<div>\n",
       "<style scoped>\n",
       "    .dataframe tbody tr th:only-of-type {\n",
       "        vertical-align: middle;\n",
       "    }\n",
       "\n",
       "    .dataframe tbody tr th {\n",
       "        vertical-align: top;\n",
       "    }\n",
       "\n",
       "    .dataframe thead th {\n",
       "        text-align: right;\n",
       "    }\n",
       "</style>\n",
       "<table border=\"1\" class=\"dataframe\">\n",
       "  <thead>\n",
       "    <tr style=\"text-align: right;\">\n",
       "      <th></th>\n",
       "      <th>review_id</th>\n",
       "      <th>user_id</th>\n",
       "      <th>date</th>\n",
       "    </tr>\n",
       "  </thead>\n",
       "  <tbody>\n",
       "    <tr>\n",
       "      <th>0</th>\n",
       "      <td>xQY8N_XvtGbearJ5X4QryQ</td>\n",
       "      <td>OwjRMXRC0KyPrIlcjaXeFQ</td>\n",
       "      <td>2015-04-15 05:21:16</td>\n",
       "    </tr>\n",
       "    <tr>\n",
       "      <th>1</th>\n",
       "      <td>UmFMZ8PyXZTY2QcwzsfQYA</td>\n",
       "      <td>nIJD_7ZXHq-FX8byPMOkMQ</td>\n",
       "      <td>2013-12-07 03:16:52</td>\n",
       "    </tr>\n",
       "    <tr>\n",
       "      <th>2</th>\n",
       "      <td>LG2ZaYiOgpr2DK_90pYjNw</td>\n",
       "      <td>V34qejxNsCbcgD8C0HVk-Q</td>\n",
       "      <td>2015-12-05 03:18:11</td>\n",
       "    </tr>\n",
       "    <tr>\n",
       "      <th>3</th>\n",
       "      <td>i6g_oA9Yf9Y31qt0wibXpw</td>\n",
       "      <td>ofKDkJKXSKZXu5xJNGiiBQ</td>\n",
       "      <td>2011-05-27 05:30:52</td>\n",
       "    </tr>\n",
       "    <tr>\n",
       "      <th>4</th>\n",
       "      <td>6TdNDKywdbjoTkizeMce8A</td>\n",
       "      <td>UgMW8bLE0QMJDCkQ1Ax5Mg</td>\n",
       "      <td>2017-01-14 21:56:57</td>\n",
       "    </tr>\n",
       "    <tr>\n",
       "      <th>...</th>\n",
       "      <td>...</td>\n",
       "      <td>...</td>\n",
       "      <td>...</td>\n",
       "    </tr>\n",
       "    <tr>\n",
       "      <th>7998008</th>\n",
       "      <td>LAzw2u1ucY722ryLEXHdgg</td>\n",
       "      <td>6DMFD3BRp-MVzDQelRx5UQ</td>\n",
       "      <td>2019-12-11 01:07:06</td>\n",
       "    </tr>\n",
       "    <tr>\n",
       "      <th>7998009</th>\n",
       "      <td>gMDU14Fa_DVIcPvsKtubJA</td>\n",
       "      <td>_g6P8H3-qfbz1FxbffS68g</td>\n",
       "      <td>2019-12-10 04:15:00</td>\n",
       "    </tr>\n",
       "    <tr>\n",
       "      <th>7998010</th>\n",
       "      <td>EcY_p50zPIQ2R6rf6-5CjA</td>\n",
       "      <td>Scmyz7MK4TbXXYcaLZxIxQ</td>\n",
       "      <td>2019-06-06 15:01:53</td>\n",
       "    </tr>\n",
       "    <tr>\n",
       "      <th>7998011</th>\n",
       "      <td>-z_MM0pAf9RtZbyPlphTlA</td>\n",
       "      <td>lBuAACBEThaQHQGMzAlKpg</td>\n",
       "      <td>2018-07-05 18:45:21</td>\n",
       "    </tr>\n",
       "    <tr>\n",
       "      <th>7998012</th>\n",
       "      <td>nK0JGgr8aO4mcFPU4pDOEA</td>\n",
       "      <td>fiA6ztHPONUkmX6yKIXyHg</td>\n",
       "      <td>2019-12-07 00:29:55</td>\n",
       "    </tr>\n",
       "  </tbody>\n",
       "</table>\n",
       "<p>7998013 rows × 3 columns</p>\n",
       "</div>"
      ],
      "text/plain": [
       "                      review_id                 user_id                date\n",
       "0        xQY8N_XvtGbearJ5X4QryQ  OwjRMXRC0KyPrIlcjaXeFQ 2015-04-15 05:21:16\n",
       "1        UmFMZ8PyXZTY2QcwzsfQYA  nIJD_7ZXHq-FX8byPMOkMQ 2013-12-07 03:16:52\n",
       "2        LG2ZaYiOgpr2DK_90pYjNw  V34qejxNsCbcgD8C0HVk-Q 2015-12-05 03:18:11\n",
       "3        i6g_oA9Yf9Y31qt0wibXpw  ofKDkJKXSKZXu5xJNGiiBQ 2011-05-27 05:30:52\n",
       "4        6TdNDKywdbjoTkizeMce8A  UgMW8bLE0QMJDCkQ1Ax5Mg 2017-01-14 21:56:57\n",
       "...                         ...                     ...                 ...\n",
       "7998008  LAzw2u1ucY722ryLEXHdgg  6DMFD3BRp-MVzDQelRx5UQ 2019-12-11 01:07:06\n",
       "7998009  gMDU14Fa_DVIcPvsKtubJA  _g6P8H3-qfbz1FxbffS68g 2019-12-10 04:15:00\n",
       "7998010  EcY_p50zPIQ2R6rf6-5CjA  Scmyz7MK4TbXXYcaLZxIxQ 2019-06-06 15:01:53\n",
       "7998011  -z_MM0pAf9RtZbyPlphTlA  lBuAACBEThaQHQGMzAlKpg 2018-07-05 18:45:21\n",
       "7998012  nK0JGgr8aO4mcFPU4pDOEA  fiA6ztHPONUkmX6yKIXyHg 2019-12-07 00:29:55\n",
       "\n",
       "[7998013 rows x 3 columns]"
      ]
     },
     "execution_count": 3,
     "metadata": {},
     "output_type": "execute_result"
    }
   ],
   "source": [
    "df_review = load_data(file_review)\n",
    "df_review['date'] = pd.to_datetime(df_review.date) # convert the date string to an actual date\n",
    "df_review[['review_id','user_id','date']]"
   ]
  },
  {
   "cell_type": "markdown",
   "metadata": {},
   "source": [
    "# User engagement over time"
   ]
  },
  {
   "cell_type": "code",
   "execution_count": 4,
   "metadata": {},
   "outputs": [],
   "source": [
    "def engagement(df):\n",
    "    count = df[['date', 'user_id']].resample('M', on='date').count()\n",
    "    plt.plot(count['user_id'])\n",
    "    plt.yscale('log')\n",
    "    plt.show()"
   ]
  },
  {
   "cell_type": "code",
   "execution_count": 5,
   "metadata": {
    "ExecuteTime": {
     "end_time": "2020-05-19T19:39:49.917658Z",
     "start_time": "2020-05-19T19:39:18.656768Z"
    },
    "scrolled": true
   },
   "outputs": [
    {
     "data": {
      "image/png": "[encoded data removed]",
      "text/plain": [
       "<Figure size 432x288 with 1 Axes>"
      ]
     },
     "metadata": {
      "needs_background": "light"
     },
     "output_type": "display_data"
    }
   ],
   "source": [
    "engagement(df_review)"
   ]
  },
  {
   "cell_type": "markdown",
   "metadata": {},
   "source": [
    "# Effect of the policy over time\n",
    "\n",
    "We are then going to look at the log number of reviews in each of the months around the introduction of the interface change.\n"
   ]
  },
  {
   "cell_type": "code",
   "execution_count": 6,
   "metadata": {},
   "outputs": [],
   "source": [
    "def policy_effect(df_review, file_treatment):\n",
    "    list_treatment = list(pd.read_json(file_treatment, lines=True)[0])\n",
    "    df_review['treat'] = False\n",
    "    for treatment_id in tqdm.tqdm(list_treatment):\n",
    "        df_review['treat'] = df_review.eval(\"user_id == '{}' or treat\".format(treatment_id))\n",
    "    df_treated = df_review.loc[df_review['treat']==True]\n",
    "    count_treated = df_treated.resample('M', on='date').count()\n",
    "    count = df_review.resample('M', on='date').count()\n",
    "    plt.plot(count['user_id'], label=\"untreated\")\n",
    "    plt.plot(count_treated['user_id'], label=\"treated\")\n",
    "    plt.yscale('log')\n",
    "    plt.legend()\n",
    "    plt.show()\n",
    "    return list_treatment, df_review"
   ]
  },
  {
   "cell_type": "code",
   "execution_count": 25,
   "metadata": {
    "ExecuteTime": {
     "end_time": "2020-05-20T02:07:18.624892Z",
     "start_time": "2020-05-20T02:06:53.529695Z"
    }
   },
   "outputs": [
    {
     "name": "stderr",
     "output_type": "stream",
     "text": [
      "100%|██████████| 1500/1500 [09:13<00:00,  2.71it/s]\n"
     ]
    },
    {
     "data": {
      "image/png": "[encoded data removed]",
      "text/plain": [
       "<Figure size 432x288 with 1 Axes>"
      ]
     },
     "metadata": {
      "needs_background": "light"
     },
     "output_type": "display_data"
    }
   ],
   "source": [
    "user_treat,df_local = policy_effect(df_review, file_treatment)"
   ]
  },
  {
   "cell_type": "markdown",
   "metadata": {},
   "source": [
    "While the number of review per month for all users increases, the number of review per month for treatment group seem to have stopped and even breifly declined. Since the two trend increases in parallel before, according to common trend assumption, the two should continue to increase parallely, which they are not."
   ]
  },
  {
   "cell_type": "markdown",
   "metadata": {},
   "source": [
    "# Changing comparison group\n",
    "\n",
    "We clearly created some issues in the way we analyzed our sample. In this section we are going to use a more comparable group, which consist of users from the this group wich are not in the treatment group."
   ]
  },
  {
   "cell_type": "code",
   "execution_count": 26,
   "metadata": {},
   "outputs": [],
   "source": [
    "def comparison(df_local, user_treat):\n",
    "    tmp = df_local.loc[np.datetime64(\"2010-01-01\")<=df_local['date']]\n",
    "    original_all = np.unique(tmp.loc[tmp['date']<=np.datetime64(\"2010-01-31\")]['user_id'])\n",
    "    original_control = [e for e in original_all if e not in user_treat]\n",
    "    df_treated = df_local.loc[df_local['treat']==True]\n",
    "    df_control = df_local[df_local['user_id'].isin(original_control)]\n",
    "    count_treated = df_treated.resample('Q', on='date').count()\n",
    "    count_control = df_control.resample('Q', on='date').count()\n",
    "    count_treated = count_treated[count_treated['user_id']!=0]\n",
    "    count_control = count_control[count_control['user_id']!=0]\n",
    "    plt.plot(count_control['user_id'], label=\"untreated\")\n",
    "    plt.plot(count_treated['user_id'], label=\"treated\")\n",
    "    plt.yscale('log')\n",
    "    plt.legend()\n",
    "    plt.show()\n",
    "    avg_control = count_control['user_id']/len(original_control)\n",
    "    avg_treated = count_treated['user_id']/len(user_treat)\n",
    "    diff = np.log(avg_treated)-np.log(avg_control)\n",
    "    plt.plot(diff[10:])\n",
    "    plt.show()\n",
    "    return df_local"
   ]
  },
  {
   "cell_type": "code",
   "execution_count": 27,
   "metadata": {
    "ExecuteTime": {
     "end_time": "2020-05-20T02:19:06.689725Z",
     "start_time": "2020-05-20T02:19:03.377371Z"
    },
    "scrolled": false
   },
   "outputs": [
    {
     "data": {
      "image/png": "[encoded data removed]",
      "text/plain": [
       "<Figure size 432x288 with 1 Axes>"
      ]
     },
     "metadata": {
      "needs_background": "light"
     },
     "output_type": "display_data"
    },
    {
     "data": {
      "image/png": "[encoded data removed]",
      "text/plain": [
       "<Figure size 432x288 with 1 Axes>"
      ]
     },
     "metadata": {
      "needs_background": "light"
     },
     "output_type": "display_data"
    }
   ],
   "source": [
    "df_local = comparison(df_local,user_treat)"
   ]
  },
  {
   "cell_type": "markdown",
   "metadata": {},
   "source": [
    "# Using activity per user and time\n",
    "\n",
    "We are also interested in conducting some inference on our results. However the level of randomization is at the `user` and not at the `review`. Hence we construct observations at the `(user,year)` level. We decide to use years instead of months because the probability at the month level is too low."
   ]
  },
  {
   "cell_type": "code",
   "execution_count": 189,
   "metadata": {},
   "outputs": [],
   "source": [
    "import itertools\n",
    "\n",
    "def activity(df_local, user_treat):\n",
    "    years = list(range(2004, 2020))\n",
    "    tmp = df_local.loc[np.datetime64(\"2010-01-01\")<=df_local['date']]\n",
    "    original_all = np.unique(tmp.query(\"date <= '2010-02-01'\")['user_id'])\n",
    "\n",
    "    local_user = []\n",
    "    for u in tqdm.tqdm(original_all):\n",
    "        treat = u in user_treat\n",
    "        user_all_post = df_local.query(\"user_id=='{}'\".format(u))\n",
    "        for y in years:\n",
    "            year_begin = pd.to_datetime(y, format='%Y')\n",
    "            year_end = year_begin + np.timedelta64(1, 'Y')\n",
    "            mask= (user_all_post['date'] > year_begin) & (user_all_post['date'] <= year_end)\n",
    "            post = 1 if mask.any() else 0\n",
    "            local_user.append([u, y, treat, post])\n",
    "    df_local_user = pd.DataFrame(local_user, columns=['user_id','date','treated','post'])\n",
    "    df_local_user['date'] = pd.to_datetime(df_local_user['date'], format='%Y')\n",
    "\n",
    "    df_treated = df_local_user.loc[df_local_user['treated']==True]\n",
    "    df_treated\n",
    "    df_control = df_local_user.loc[df_local_user['treated']==False]\n",
    "    count_treated = df_treated.resample('Y', on='date').mean()\n",
    "    count_control = df_control.resample('Y', on='date').mean()\n",
    "    count_treated = count_treated[count_treated['post']!=0]\n",
    "    count_control = count_control[count_control['post']!=0]\n",
    "    plt.plot(count_control['post'], label=\"untreated\")\n",
    "    plt.plot(count_treated['post'], label=\"treated\")\n",
    "    plt.legend()\n",
    "    plt.show()\n",
    "\n",
    "    avg_control = count_control['post']\n",
    "    avg_treated = count_treated['post']\n",
    "    diff = avg_treated-avg_control\n",
    "    plt.plot(diff)\n",
    "    plt.show()\n",
    "\n",
    "    \n",
    "    return df_local_user\n"
   ]
  },
  {
   "cell_type": "code",
   "execution_count": 221,
   "metadata": {
    "ExecuteTime": {
     "end_time": "2020-05-20T02:41:43.687277Z",
     "start_time": "2020-05-20T02:41:40.619287Z"
    },
    "scrolled": false
   },
   "outputs": [
    {
     "name": "stderr",
     "output_type": "stream",
     "text": [
      "100%|██████████| 4846/4846 [30:37<00:00,  2.64it/s]\n"
     ]
    },
    {
     "data": {
      "image/png": "[encoded data removed]",
      "text/plain": [
       "<Figure size 432x288 with 1 Axes>"
      ]
     },
     "metadata": {
      "needs_background": "light"
     },
     "output_type": "display_data"
    },
    {
     "data": {
      "image/png": "[encoded data removed]",
      "text/plain": [
       "<Figure size 432x288 with 1 Axes>"
      ]
     },
     "metadata": {
      "needs_background": "light"
     },
     "output_type": "display_data"
    }
   ],
   "source": [
    "df_local_user = activity(df_local,user_treat)"
   ]
  },
  {
   "cell_type": "code",
   "execution_count": 222,
   "metadata": {
    "ExecuteTime": {
     "end_time": "2020-05-20T02:42:39.992305Z",
     "start_time": "2020-05-20T02:42:39.930219Z"
    }
   },
   "outputs": [
    {
     "data": {
      "text/html": [
       "<div>\n",
       "<style scoped>\n",
       "    .dataframe tbody tr th:only-of-type {\n",
       "        vertical-align: middle;\n",
       "    }\n",
       "\n",
       "    .dataframe tbody tr th {\n",
       "        vertical-align: top;\n",
       "    }\n",
       "\n",
       "    .dataframe thead th {\n",
       "        text-align: right;\n",
       "    }\n",
       "</style>\n",
       "<table border=\"1\" class=\"dataframe\">\n",
       "  <thead>\n",
       "    <tr style=\"text-align: right;\">\n",
       "      <th></th>\n",
       "      <th>user_id</th>\n",
       "      <th>date</th>\n",
       "      <th>treated</th>\n",
       "      <th>post</th>\n",
       "    </tr>\n",
       "  </thead>\n",
       "  <tbody>\n",
       "    <tr>\n",
       "      <th>0</th>\n",
       "      <td>--J8UruLD_xvVuI1lMAxpA</td>\n",
       "      <td>2004-01-01</td>\n",
       "      <td>False</td>\n",
       "      <td>0</td>\n",
       "    </tr>\n",
       "    <tr>\n",
       "      <th>1</th>\n",
       "      <td>--J8UruLD_xvVuI1lMAxpA</td>\n",
       "      <td>2005-01-01</td>\n",
       "      <td>False</td>\n",
       "      <td>0</td>\n",
       "    </tr>\n",
       "    <tr>\n",
       "      <th>2</th>\n",
       "      <td>--J8UruLD_xvVuI1lMAxpA</td>\n",
       "      <td>2006-01-01</td>\n",
       "      <td>False</td>\n",
       "      <td>0</td>\n",
       "    </tr>\n",
       "    <tr>\n",
       "      <th>3</th>\n",
       "      <td>--J8UruLD_xvVuI1lMAxpA</td>\n",
       "      <td>2007-01-01</td>\n",
       "      <td>False</td>\n",
       "      <td>0</td>\n",
       "    </tr>\n",
       "    <tr>\n",
       "      <th>4</th>\n",
       "      <td>--J8UruLD_xvVuI1lMAxpA</td>\n",
       "      <td>2008-01-01</td>\n",
       "      <td>False</td>\n",
       "      <td>0</td>\n",
       "    </tr>\n",
       "    <tr>\n",
       "      <th>...</th>\n",
       "      <td>...</td>\n",
       "      <td>...</td>\n",
       "      <td>...</td>\n",
       "      <td>...</td>\n",
       "    </tr>\n",
       "    <tr>\n",
       "      <th>77531</th>\n",
       "      <td>zznOF_-TAaCRw1lRVQ9GzQ</td>\n",
       "      <td>2015-01-01</td>\n",
       "      <td>False</td>\n",
       "      <td>0</td>\n",
       "    </tr>\n",
       "    <tr>\n",
       "      <th>77532</th>\n",
       "      <td>zznOF_-TAaCRw1lRVQ9GzQ</td>\n",
       "      <td>2016-01-01</td>\n",
       "      <td>False</td>\n",
       "      <td>0</td>\n",
       "    </tr>\n",
       "    <tr>\n",
       "      <th>77533</th>\n",
       "      <td>zznOF_-TAaCRw1lRVQ9GzQ</td>\n",
       "      <td>2017-01-01</td>\n",
       "      <td>False</td>\n",
       "      <td>0</td>\n",
       "    </tr>\n",
       "    <tr>\n",
       "      <th>77534</th>\n",
       "      <td>zznOF_-TAaCRw1lRVQ9GzQ</td>\n",
       "      <td>2018-01-01</td>\n",
       "      <td>False</td>\n",
       "      <td>0</td>\n",
       "    </tr>\n",
       "    <tr>\n",
       "      <th>77535</th>\n",
       "      <td>zznOF_-TAaCRw1lRVQ9GzQ</td>\n",
       "      <td>2019-01-01</td>\n",
       "      <td>False</td>\n",
       "      <td>0</td>\n",
       "    </tr>\n",
       "  </tbody>\n",
       "</table>\n",
       "<p>77536 rows × 4 columns</p>\n",
       "</div>"
      ],
      "text/plain": [
       "                      user_id       date  treated  post\n",
       "0      --J8UruLD_xvVuI1lMAxpA 2004-01-01    False     0\n",
       "1      --J8UruLD_xvVuI1lMAxpA 2005-01-01    False     0\n",
       "2      --J8UruLD_xvVuI1lMAxpA 2006-01-01    False     0\n",
       "3      --J8UruLD_xvVuI1lMAxpA 2007-01-01    False     0\n",
       "4      --J8UruLD_xvVuI1lMAxpA 2008-01-01    False     0\n",
       "...                       ...        ...      ...   ...\n",
       "77531  zznOF_-TAaCRw1lRVQ9GzQ 2015-01-01    False     0\n",
       "77532  zznOF_-TAaCRw1lRVQ9GzQ 2016-01-01    False     0\n",
       "77533  zznOF_-TAaCRw1lRVQ9GzQ 2017-01-01    False     0\n",
       "77534  zznOF_-TAaCRw1lRVQ9GzQ 2018-01-01    False     0\n",
       "77535  zznOF_-TAaCRw1lRVQ9GzQ 2019-01-01    False     0\n",
       "\n",
       "[77536 rows x 4 columns]"
      ]
     },
     "execution_count": 222,
     "metadata": {},
     "output_type": "execute_result"
    }
   ],
   "source": [
    "df_local_user"
   ]
  },
  {
   "cell_type": "markdown",
   "metadata": {},
   "source": [
    "# Constructing confidence intervals\n",
    "\n",
    "\n",
    "In this final question our goal is to add some inference to our plot. We are going to simply use the asymptotic variance implied by the OLS formula. "
   ]
  },
  {
   "cell_type": "code",
   "execution_count": 223,
   "metadata": {},
   "outputs": [],
   "source": [
    "import statsmodels.formula.api as smf\n",
    "\n",
    "\n",
    "def f(df):\n",
    "    results = smf.ols('post ~ treated', data=df).fit()\n",
    "    confs = list(results.conf_int(0.05).iloc[1])\n",
    "    return pd.DataFrame([[results.params[1], 1/(results.nobs*results.bse[1]), confs[1]-sum(confs)/2]], columns=['beta', 'var', 'conf'])\n",
    "    \n",
    "def confidence_interval(df_local_user):\n",
    "    results = df_local_user.groupby('date').apply(f)\n",
    "    results = results.reset_index().drop(['level_1'], axis=1)\n",
    "\n",
    "    plt.errorbar(results['date'], results['beta'], yerr=results['conf'])\n",
    "    plt.show()"
   ]
  },
  {
   "cell_type": "code",
   "execution_count": 224,
   "metadata": {
    "ExecuteTime": {
     "end_time": "2020-05-20T02:43:18.320091Z",
     "start_time": "2020-05-20T02:43:18.075998Z"
    }
   },
   "outputs": [
    {
     "data": {
      "image/png": "[encoded data removed]",
      "text/plain": [
       "<Figure size 432x288 with 1 Axes>"
      ]
     },
     "metadata": {
      "needs_background": "light"
     },
     "output_type": "display_data"
    }
   ],
   "source": [
    "import matplotlib\n",
    "matplotlib.rcParams.update({'errorbar.capsize': 3})\n",
    "confidence_interval(df_local_user)"
   ]
  },
  {
   "cell_type": "markdown",
   "metadata": {},
   "source": [
    "Before the start of the experiment, treatment has very little to no effect on posting behavior. After the experiment began, there seems to be a negative correlation between treatment and posting, indicated by a sharp decline after the new interface is implemented. While the effect seems to fade, it may be due to a general decline in average posting amount."
   ]
  }
 ],
 "metadata": {
  "@webio": {
   "lastCommId": null,
   "lastKernelId": null
  },
  "kernelspec": {
   "display_name": "Python 3",
   "language": "python",
   "name": "python3"
  },
  "language_info": {
   "codemirror_mode": {
    "name": "ipython",
    "version": 3
   },
   "file_extension": ".py",
   "mimetype": "text/x-python",
   "name": "python",
   "nbconvert_exporter": "python",
   "pygments_lexer": "ipython3",
   "version": "3.7.7"
  },
  "toc": {
   "base_numbering": 1,
   "nav_menu": {},
   "number_sections": true,
   "sideBar": true,
   "skip_h1_title": false,
   "title_cell": "Table of Contents",
   "title_sidebar": "Contents",
   "toc_cell": false,
   "toc_position": {},
   "toc_section_display": true,
   "toc_window_display": false
  },
  "varInspector": {
   "cols": {
    "lenName": 16,
    "lenType": 16,
    "lenVar": 40
   },
   "kernels_config": {
    "python": {
     "delete_cmd_postfix": "",
     "delete_cmd_prefix": "del ",
     "library": "var_list.py",
     "varRefreshCmd": "print(var_dic_list())"
    },
    "r": {
     "delete_cmd_postfix": ") ",
     "delete_cmd_prefix": "rm(",
     "library": "var_list.r",
     "varRefreshCmd": "cat(var_dic_list()) "
    }
   },
   "types_to_exclude": [
    "module",
    "function",
    "builtin_function_or_method",
    "instance",
    "_Feature"
   ],
   "window_display": false
  }
 },
 "nbformat": 4,
 "nbformat_minor": 2
}
